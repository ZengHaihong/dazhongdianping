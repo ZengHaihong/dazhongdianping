{
 "cells": [
  {
   "cell_type": "code",
   "execution_count": null,
   "metadata": {
    "collapsed": true
   },
   "outputs": [],
   "source": [
    "import json\n",
    "import requests\n",
    "import pandas as pd\n",
    "#import pandas as pd #导入这些库后边都要用到\n",
    "import multiprocessing as mtp\n",
    "import pickle \n",
    "\n",
    "def getlnglat(address):\n",
    "    url = 'http://api.map.baidu.com/geocoder/v2/'\n",
    "    output = 'json'\n",
    "    ak = 'lv6sXaXhUCB8L6Z0X42Zw6PHMowR1YIF'\n",
    "    add = address #由于本文城市变量为中文，为防止乱码，先用quote进行编码\n",
    "    uri = url + '?' + 'address=' + add  + '&output=' + output + '&ak=' + ak\n",
    "    req = requests.get(uri)\n",
    "    #res = req.read().decode() #将其他编码的字符串解码成unicode\n",
    "    res = req.content.decode()\n",
    "    \n",
    "    temp = json.loads(res) #对json数据进行解\n",
    "    print(temp)\n",
    "    jingdu = temp[\"result\"][\"location\"]['lng']\n",
    "    weidu = temp[\"result\"][\"location\"]['lat']\n",
    "    confidence = temp[\"result\"]['confidence']\n",
    "    result = [address,jingdu,weidu,confidence]\n",
    "    return result\n"
   ]
  },
  {
   "cell_type": "code",
   "execution_count": null,
   "metadata": {
    "collapsed": false
   },
   "outputs": [],
   "source": [
    "path = '/home/zhh/2翼支付商户明细.xlsx'\n",
    "data =pd.read_excel(path)\n",
    "address = data[data[\"门店地址\"].notnull()][\"门店地址\"].tolist()"
   ]
  },
  {
   "cell_type": "code",
   "execution_count": null,
   "metadata": {
    "collapsed": false
   },
   "outputs": [],
   "source": [
    "%%time\n",
    "for i in address[:100]:\n",
    "    print(getlnglat(i))"
   ]
  },
  {
   "cell_type": "code",
   "execution_count": null,
   "metadata": {
    "collapsed": false
   },
   "outputs": [],
   "source": [
    "address[:100]"
   ]
  },
  {
   "cell_type": "code",
   "execution_count": null,
   "metadata": {
    "collapsed": false
   },
   "outputs": [],
   "source": [
    "getlnglat('东莞市寮步镇横坑路万科城市高尔夫花园橡树公寓01-06,09号商铺')"
   ]
  },
  {
   "cell_type": "code",
   "execution_count": 1,
   "metadata": {
    "collapsed": false
   },
   "outputs": [
    {
     "name": "stdout",
     "output_type": "stream",
     "text": [
      "importing Jupyter notebook from IPpool.ipynb\n"
     ]
    }
   ],
   "source": [
    "import Ipynb_importer\n",
    "from IPpool import Ip_pool"
   ]
  },
  {
   "cell_type": "code",
   "execution_count": 3,
   "metadata": {
    "collapsed": false
   },
   "outputs": [
    {
     "name": "stdout",
     "output_type": "stream",
     "text": [
      "http://www.xicidaili.com/nn/\n",
      "{'Accept': 'application/json, text/javascript, */*; q=0.01', 'Accept-Encoding': 'gzip, deflate, br', 'Accept-Language': 'zh-CN,zh;q=0.8', 'Connection': 'keep-alive', 'Content-Type': 'application/x-www-form-urlencoded; charset=UTF-8', 'User-Agent': 'Mozilla/5.0 (X11; Linux x86_64) AppleWebKit/535.24 (KHTML, like Gecko) Chrome/19.0.1055.1 Safari/535.24'}\n",
      "坏ip: ['https', 'https://42.237.131.97:80']\n",
      "坏ip: ['https', 'https://27.151.11.211:80']\n",
      "坏ip: ['https', 'https://180.115.0.148:33097']\n",
      "坏ip: ['http', 'http://221.213.6.209:8118']\n",
      "坏ip: ['https', 'https://182.90.57.83:8123']\n",
      "坏ip: ['https', 'https://218.15.25.153:808']\n",
      "坏ip: ['https', 'https://124.132.70.205:8118']\n",
      "坏ip: ['https', 'https://115.200.63.179:80']\n",
      "坏ip: ['https', 'https://59.40.69.122:8010']\n",
      "坏ip: ['https', 'https://124.134.32.39:8080']\n",
      "坏ip: ['https', 'https://115.200.1.178:80']\n",
      "坏ip: ['https', 'https://125.127.150.90:8118']\n",
      "坏ip: ['https', 'https://106.58.253.1:9999']\n",
      "坏ip: ['https', 'https://120.76.55.49:8088']\n",
      "坏ip: ['http', 'http://183.49.85.71:8118']\n",
      "坏ip: ['https', 'https://110.73.9.92:8123']\n",
      "坏ip: ['https', 'https://119.51.103.164:8080']\n",
      "坏ip: ['http', 'http://110.73.41.185:8123']\n",
      "坏ip: ['https', 'https://1.194.148.117:28105']\n",
      "坏ip: ['https', 'https://27.40.153.97:61234']\n",
      "坏ip: ['http', 'http://180.120.215.109:8888']\n",
      "坏ip: ['https', 'https://113.195.163.212:48888']\n",
      "坏ip: ['https', 'https://27.40.157.4:61234']\n",
      "http://www.xicidaili.com/nt/\n",
      "{'Accept': 'application/json, text/javascript, */*; q=0.01', 'Accept-Encoding': 'gzip, deflate, br', 'Accept-Language': 'zh-CN,zh;q=0.8', 'Connection': 'keep-alive', 'Content-Type': 'application/x-www-form-urlencoded; charset=UTF-8', 'User-Agent': 'Mozilla/5.0 (Windows NT 6.2; WOW64) AppleWebKit/535.24 (KHTML, like Gecko) Chrome/19.0.1055.1 Safari/535.24'}\n",
      "坏ip: ['https', 'https://122.72.18.35:80']\n",
      "坏ip: ['https', 'https://112.115.38.106:9999']\n",
      "坏ip: ['https', 'https://121.43.178.58:3128']\n",
      "坏ip: ['https', 'https://183.66.64.120:3128']\n",
      "坏ip: ['https', 'https://27.37.249.132:8080']\n",
      "坏ip: ['https', 'https://119.90.63.3:3128']\n",
      "坏ip: ['https', 'https://14.29.84.50:8080']\n",
      "坏ip: ['https', 'https://219.157.171.70:9999']\n",
      "坏ip: ['https', 'https://114.101.227.47:9000']\n",
      "坏ip: ['https', 'https://218.29.111.106:9999']\n",
      "坏ip: ['https', 'https://175.174.175.91:808']\n",
      "坏ip: ['https', 'https://113.87.88.146:9999']\n",
      "坏ip: ['https', 'https://114.219.91.97:3128']\n",
      "坏ip: ['https', 'https://219.137.206.109:53281']\n",
      "坏ip: ['https', 'https://112.117.59.188:9999']\n",
      "坏ip: ['https', 'https://27.46.42.145:9797']\n",
      "坏ip: ['https', 'https://113.65.161.66:9797']\n",
      "坏ip: ['https', 'https://1.202.193.60:9000']\n",
      "坏ip: ['https', 'https://110.153.184.246:53281']\n",
      "坏ip: ['https', 'https://119.5.176.218:53979']\n",
      "坏ip: ['https', 'https://101.81.140.160:53281']\n",
      "坏ip: ['https', 'https://27.46.74.21:9999']\n",
      "坏ip: ['https', 'https://202.105.111.11:9000']\n",
      "坏ip: ['https', 'https://14.211.34.145:9999']\n",
      "坏ip: ['https', 'https://59.59.148.194:53281']\n",
      "坏ip: ['https', 'https://222.212.185.10:8888']\n",
      "坏ip: ['https', 'https://27.46.74.31:9999']\n",
      "坏ip: ['https', 'https://183.30.204.47:9000']\n",
      "坏ip: ['https', 'https://183.129.67.131:8118']\n",
      "坏ip: ['https', 'https://175.146.99.29:8080']\n",
      "坏ip: ['https', 'https://163.125.156.146:8888']\n",
      "坏ip: ['https', 'https://175.171.176.78:53281']\n",
      "CPU times: user 2.46 s, sys: 120 ms, total: 2.58 s\n",
      "Wall time: 4min 3s\n"
     ]
    }
   ],
   "source": [
    "%%time\n",
    "ip = Ip_pool(['http://www.xicidaili.com/nn/',\n",
    "                                 'http://www.xicidaili.com/nt/'])\n",
    "a = ip.get_ip_pool(timeout =2)"
   ]
  },
  {
   "cell_type": "code",
   "execution_count": null,
   "metadata": {
    "collapsed": true
   },
   "outputs": [],
   "source": []
  },
  {
   "cell_type": "code",
   "execution_count": null,
   "metadata": {
    "collapsed": true
   },
   "outputs": [],
   "source": [
    " def requests_visit_url(url,prox_ip=None):\n",
    "        #headers = {\"User-Agent\":\"Mozilla/5.0 (X11; Linux x86_64) AppleWebKit/537.36 (KHTML, like Gecko) Ubuntu Chromium/61.0.3163.100 Chrome/61.0.3163.100 Safari/537.36\"}\n",
    "        headers = {\"Accept\":\"application/json, text/javascript, */*; q=0.01\",\n",
    "                    \"Accept-Encoding\":\"gzip, deflate\",\n",
    "                    \"Accept-Language\":\"zh-CN,zh;q=0.8,en;q=0.6\",\n",
    "                    \"Connection\":\"keep-alive\",\n",
    "                    \"Cookie\":\"_hc.v=f72dbe69-bcfc-a9d4-1f7f-d8daeca1ad7f.1505634421; __utma=1.1801105885.1505634423.1505634423.1505636820.2; __utmz=1.1505634423.1.1.utmcsr=google.com.hk|utmccn=(referral)|utmcmd=referral|utmcct=/; _lxsdk_cuid=15e956d9d5ec8-0a28c942cf39be-2a044871-100200-15e956d9d5fc8; _lxsdk=15e956d9d5ec8-0a28c942cf39be-2a044871-100200-15e956d9d5fc8; _lx_utm=utm_source%3DBaidu%26utm_medium%3Dorganic; __mta=222713764.1505836341840.1507819135553.1507819166825.4; JSESSIONID=D2D3D245867334198A59E676F146C5A8; aburl=1; cy=4; cye=guangzhou; s_ViewType=10; _lxsdk_s=15f2012787a-db4-26a-c8%7C%7C47\",\n",
    "                    \"Host\":\"www.dianping.com\",\n",
    "                    \"Referer\":\"http://www.dianping.com/shop/92374637\",\n",
    "                    #\"User-Agent\":\"Mozilla/5.0 (X11; Linux x86_64) AppleWebKit/537.36 (KHTML, like Gecko) Ubuntu Chromium/61.0.3163.100 Chrome/61.0.3163.100 Safari/537.36\",\n",
    "                    \"X-Requested-With\":\"XMLHttpRequest\"}\n",
    "        headers[\"User-Agent\"] = random.choice(GetHeaders().user_agent_list)\n",
    "        #eaders =GetHeaders().getHeaders()\n",
    "        print(headers)\n",
    "        is_continue = True\n",
    "        while is_continue:\n",
    "            try:\n",
    "                if prox_ip is None:\n",
    "                    res = requests.get(url,headers = headers)  #访问url，不设代理ip访问\n",
    "                else:\n",
    "                    http = prox_ip[0]\n",
    "                    ip = prox_ip[1]\n",
    "                    proxies={http:ip}\n",
    "                    print(proxies)\n",
    "                    res = requests.get(url,headers = headers,proxies = proxies) #设代理ip访问\n",
    "                html =  res.content.decode('utf-8')\n",
    "                soup  =  BeautifulSoup(html,'lxml')\n",
    "                is_continue = False \n",
    "\n",
    "            except HTTPError as e:\n",
    "                print(\"断网\")\n",
    "                time.sleep(2)\n",
    "\n",
    "            except Timeout as e:\n",
    "                print(\"请求超时\")\n",
    "                time.sleep(2)\n",
    "\n",
    "            except ConnectionError as e:\n",
    "                print(\"访问被拒\")\n",
    "                is_continue = True\n",
    "                time.sleep(2)\n",
    "        return soup"
   ]
  }
 ],
 "metadata": {
  "kernelspec": {
   "display_name": "Python 3",
   "language": "python",
   "name": "python3"
  },
  "language_info": {
   "codemirror_mode": {
    "name": "ipython",
    "version": 3
   },
   "file_extension": ".py",
   "mimetype": "text/x-python",
   "name": "python",
   "nbconvert_exporter": "python",
   "pygments_lexer": "ipython3",
   "version": "3.6.0"
  }
 },
 "nbformat": 4,
 "nbformat_minor": 2
}
