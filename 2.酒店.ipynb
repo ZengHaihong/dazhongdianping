{
 "cells": [
  {
   "cell_type": "code",
   "execution_count": 1,
   "metadata": {
    "collapsed": false
   },
   "outputs": [
    {
     "name": "stdout",
     "output_type": "stream",
     "text": [
      "importing Jupyter notebook from IPpool.ipynb\n"
     ]
    }
   ],
   "source": [
    "import os\n",
    "import requests\n",
    "import re\n",
    "from bs4 import BeautifulSoup\n",
    "import lxml\n",
    "import os.path\n",
    "from selenium import webdriver\n",
    "from selenium.common.exceptions import NoSuchElementException,WebDriverException\n",
    "from selenium.webdriver.common.keys import Keys\n",
    "import time\n",
    "import warnings\n",
    "warnings.filterwarnings(\"ignore\")\n",
    "import pickle\n",
    "import pandas as pd\n",
    "from requests.exceptions import ProxyError,ConnectionError,Timeout,HTTPError,ChunkedEncodingError\n",
    "import itertools\n",
    "import multiprocessing\n",
    "import Ipynb_importer\n",
    "from IPpool import GetHeaders\n",
    "from IPpool import Ip_pool\n",
    "import random\n",
    "import copy\n",
    "import os\n",
    "# import requests_toolbelt.adapters.appengine\n",
    "\n",
    "# requests_toolbelt.adapters.appengine.monkeypatch()\n"
   ]
  },
  {
   "cell_type": "code",
   "execution_count": 2,
   "metadata": {
    "collapsed": false
   },
   "outputs": [],
   "source": [
    "def requests_visit_url_test(url,is_use_ip =False,timeout=5):\n",
    "        global ip_pool\n",
    "        global bad_ip\n",
    "        #headers = {\"User-Agent\":\"Mozilla/5.0 (X11; Linux x86_64) AppleWebKit/537.36 (KHTML, like Gecko) Ubuntu Chromium/61.0.3163.100 Chrome/61.0.3163.100 Safari/537.36\"}\n",
    "        headers = {'Accept':'text/html,application/xhtml+xml,application/xml;q=0.9,image/webp,image/apng,*/*;q=0.8',\n",
    "                    'Accept-Encoding':'gzip, deflate',\n",
    "                    'Accept-Language':'zh-CN,zh;q=0.8,en;q=0.6',\n",
    "                    'Cache-Control':'max-age=0',\n",
    "                    'Connection':'keep-alive',\n",
    "                    'Cookie':'_hc.v=f72dbe69-bcfc-a9d4-1f7f-d8daeca1ad7f.1505634421; _lxsdk_cuid=15e956d9d5ec8-0a28c942cf39be-2a044871-100200-15e956d9d5fc8; _lxsdk=15e956d9d5ec8-0a28c942cf39be-2a044871-100200-15e956d9d5fc8; __mta=222713764.1505836341840.1507819135553.1507819166825.4; wed_user_path=163|0; Hm_lvt_dbeeb675516927da776beeb1d9802bd4=1508317369; __utma=1.1801105885.1505634423.1505636820.1508318009.3; __utmz=1.1505634423.1.1.utmcsr=google.com.hk|utmccn=(referral)|utmcmd=referral|utmcct=/; _lx_utm=utm_source%3Dgoogle%26utm_medium%3Dorganic; JSESSIONID=E0D0810114F31617ED97BC416CFDCE80; aburl=1; cy=1; cye=shanghai; _lx_utm=utm_source%3Dgoogle%26utm_medium%3Dorganic; s_ViewType=10; _lxsdk_s=15f304e1839-37c-2e4-6cf%7C%7C174',                    'Host':'www.dianping.com',\n",
    "                    'If-Modified-Since':'Wed, 18 Oct 2017 08:58:29 GMT',\n",
    "                    'Referer':'http://www.dianping.com/search/category/219/30/g141',\n",
    "                    'Upgrade-Insecure-Requests':'1',\n",
    "                    'User-Agent':random.choice(GetHeaders().user_agent_list)}\n",
    "\n",
    "        #获取任意一个请求头\n",
    "        #headers[\"User-Agent\"] = random.choice(GetHeaders().user_agent_list)\n",
    "        bad_ip = []  #用来装坏的ip\n",
    "        \n",
    "        #*********如果不设置ip的话**********************************\n",
    "        if is_use_ip == False:\n",
    "            res = requests.get(url,headers = headers,timeout=timeout)  #访问url，不设代理ip访问\n",
    "            html =  res.content.decode('utf-8')\n",
    "            soup  =  BeautifulSoup(html,'lxml')\n",
    "            if soup.title.text == '403 Forbidden' or \"有道\" in soup.title.text:\n",
    "                print(\"ip被禁止了！！！！！！！！！！！！！！！！\")\n",
    "                raise ConnectionError\n",
    "           \n",
    "        #************如果设置ip的话，则执行这一段*********************\n",
    "        else:\n",
    "            is_continue = True   #设置循环标志\n",
    "            while is_continue:\n",
    "            #整理成ip地址的格式\n",
    "                try:\n",
    "                    #\n",
    "                    print(len(bad_ip))\n",
    "                    if len(ip_pool)==len(bad_ip):\n",
    "                        ip_url = ['http://www.xicidaili.com/nn/']\n",
    "                        test_url = 'http://www.dianping.com/'\n",
    "                        ip_pool= Ip_pool().get_ip_pool(test_url,timeout=2)\n",
    "                        prox_ip = random.choice(ip_pool)\n",
    "                        bad_ip = []\n",
    "                        \n",
    "                    #******随机生成一个ip*******\n",
    "                    prox_ip = random.choice(ip_pool)\n",
    "                    http = prox_ip[0]\n",
    "                    ip = prox_ip[1]\n",
    "                    proxies={http:ip}\n",
    "                    print(proxies)\n",
    "                    \n",
    "                    #*******用代理ip访问********\n",
    "                    res = requests.get(url,headers = headers,proxies = proxies,timeout=timeout) #设代理ip访问\n",
    "                    html =  res.content.decode('utf-8')\n",
    "                    soup  =  BeautifulSoup(html,'lxml')\n",
    "                    \n",
    "                    \n",
    "                    #********如果返回网页被禁止的情况，触发异常,否则返回正常**********\n",
    "                    if  soup.title.text == '403 Forbidden' or \"有道\" in soup.title.text:\n",
    "                        print(\"ip被禁止了!!!!!!!!!!!!!!!!!!!!\")\n",
    "                        raise ConnectionError\n",
    "                    else:\n",
    "                        is_continue = False\n",
    "\n",
    "                except HTTPError as e:\n",
    "                    bad_ip.append(prox_ip)\n",
    "                    print(\"断网\")\n",
    "                    prox_ip = random.choice(ip_pool)\n",
    "                    time.sleep(2)\n",
    "\n",
    "\n",
    "                except Timeout as e:\n",
    "                    bad_ip.append(prox_ip)\n",
    "                    print(\"超时\")\n",
    "                    prox_ip = random.choice(ip_pool)\n",
    "                    time.sleep(2)\n",
    "\n",
    "\n",
    "                except ConnectionError as e:\n",
    "                    bad_ip.append(prox_ip)\n",
    "                    print(\"访问被拒\")\n",
    "                    prox_ip = random.choice(ip_pool)\n",
    "                    time.sleep(2)\n",
    "                    \n",
    "                except AttributeError as e:\n",
    "                    bad_ip.append(prox_ip)\n",
    "                    print(\"----------\")\n",
    "                    prox_ip = random.choice(ip_pool)\n",
    "                    time.sleep(2)\n",
    "\n",
    "        return soup"
   ]
  },
  {
   "cell_type": "code",
   "execution_count": 3,
   "metadata": {
    "collapsed": true
   },
   "outputs": [],
   "source": [
    "#**************将装机地址变成一组一组*****************\n",
    "def get_chunk(adr_ls,n):\n",
    "    new_adr_ls = copy.deepcopy(adr_ls)\n",
    "    adr_chunk = [new_adr_ls[i:i + n] for i in range(0, len(new_adr_ls), n)]\n",
    "    return adr_chunk"
   ]
  },
  {
   "cell_type": "code",
   "execution_count": 17,
   "metadata": {
    "collapsed": true
   },
   "outputs": [],
   "source": [
    "\n",
    "#设置谷歌浏览器的参数\n",
    "def set_chrome_param():\n",
    "    #PROXY = '175.155.24.61:808'\n",
    "    options = webdriver.ChromeOptions()\n",
    "    chrome_path = '/home/zhh/chromedriver'  \n",
    "    #options.add_argument('--proxy-server={0}'.format(PROXY))\n",
    "    # 设置成中文\n",
    "    options.add_argument('lang=zh_CN.UTF-8')\n",
    "    # 添加头部\n",
    "    #1允许所有图片；2阻止所有图片；3阻止第三方服务器图片\n",
    "    prefs = {'profile.default_content_setting_values': { 'images':2}}\n",
    "    options.add_experimental_option('prefs', prefs)\n",
    "    options.add_argument('user-agent=\"Mozilla/5.0 (Windows NT 10.0; WOW64) AppleWebKit/537.36 (KHTML, like Gecko) Chrome/55.0.2883.103 Safari/537.36\"')\n",
    "    chrome = webdriver.Chrome(chrome_path)#),chrome_options=options)\n",
    "    return chrome\n"
   ]
  },
  {
   "cell_type": "code",
   "execution_count": 5,
   "metadata": {
    "collapsed": false
   },
   "outputs": [],
   "source": [
    "#requests请求网页，返回一个BeautifulSoup对象\n",
    "def requests_visit_url(url,prox_ip=None):\n",
    "    \n",
    "    #*******设置请求头*************\n",
    "    headers = {\"Accept\":\"application/json, text/javascript, */*; q=0.01\",\n",
    "                    \"Accept-Encoding\":\"gzip, deflate\",\n",
    "                    \"Accept-Language\":\"zh-CN,zh;q=0.8,en;q=0.6\",\n",
    "                    \"Connection\":\"keep-alive\",\n",
    "                    \"Cookie\":\"_hc.v=f72dbe69-bcfc-a9d4-1f7f-d8daeca1ad7f.1505634421; __utma=1.1801105885.1505634423.1505634423.1505636820.2; __utmz=1.1505634423.1.1.utmcsr=google.com.hk|utmccn=(referral)|utmcmd=referral|utmcct=/; _lxsdk_cuid=15e956d9d5ec8-0a28c942cf39be-2a044871-100200-15e956d9d5fc8; _lxsdk=15e956d9d5ec8-0a28c942cf39be-2a044871-100200-15e956d9d5fc8; _lx_utm=utm_source%3DBaidu%26utm_medium%3Dorganic; __mta=222713764.1505836341840.1507819135553.1507819166825.4; JSESSIONID=D2D3D245867334198A59E676F146C5A8; aburl=1; cy=4; cye=guangzhou; s_ViewType=10; _lxsdk_s=15f2012787a-db4-26a-c8%7C%7C47\",\n",
    "                    \"Host\":\"www.dianping.com\",\n",
    "                    \"Referer\":url,\n",
    "                    #\"User-Agent\":\"Mozilla/5.0 (X11; Linux x86_64) AppleWebKit/537.36 (KHTML, like Gecko) Ubuntu Chromium/61.0.3163.100 Chrome/61.0.3163.100 Safari/537.36\",\n",
    "                    \"X-Requested-With\":\"XMLHttpRequest\"}\n",
    "    headers[\"User-Agent\"] = random.choice(GetHeaders().user_agent_list)\n",
    "    #headers = {\"User-Agent\":\"Mozilla/5.0 (Windows NT 10.0; WOW64) AppleWebKit/537.36 (KHTML, like Gecko) Chrome/55.0.2883.103 Safari/537.36\"}\n",
    "    \n",
    "    #********是否循环*************\n",
    "    is_continue = True\n",
    "    num = 0\n",
    "    while is_continue:\n",
    "        num +=1\n",
    "        print(\"访问{0}次\".format(num))\n",
    "        try:\n",
    "            #***********不设代理访问*************\n",
    "            if prox_ip is None:\n",
    "                res = requests.get(url,headers = headers)  #访问url，不设代理ip访问\n",
    "            else:\n",
    "                \n",
    "            #*********设置代理ip访问*************\n",
    "                http = prox_ip[0]\n",
    "                ip = http+\"://\"+prox_ip[1]\n",
    "                proxies={http:ip}\n",
    "                print(proxies)\n",
    "                res = requests.get(url,headers = headers,proxies = proxies) #设代理ip访问\n",
    "            html =  res.content.decode('utf-8')\n",
    "            soup  =  BeautifulSoup(html,'lxml')\n",
    "            is_continue = False \n",
    "            \n",
    "        except HTTPError as e:\n",
    "            print(\"断网\")\n",
    "            time.sleep(2)\n",
    "            \n",
    "        except Timeout as e:\n",
    "            print(\"请求超时\")\n",
    "            time.sleep(2)\n",
    "            \n",
    "        except ConnectionError as e:\n",
    "            print(\"访问被拒\")\n",
    "            is_continue = True\n",
    "            time.sleep(2)\n",
    "    return soup"
   ]
  },
  {
   "cell_type": "code",
   "execution_count": 6,
   "metadata": {
    "collapsed": true
   },
   "outputs": [],
   "source": [
    "#缓存结果\n",
    "def save_cache(result,filename):\n",
    "    with open(filename,'wb') as f1:\n",
    "        pickle.dump(result,f1)"
   ]
  },
  {
   "cell_type": "code",
   "execution_count": 7,
   "metadata": {
    "collapsed": true
   },
   "outputs": [],
   "source": [
    "#加载缓存\n",
    "def read_cache(filename):\n",
    "    with open(filename,'rb')as f1:\n",
    "        result = pickle.load(f1)\n",
    "    return result"
   ]
  },
  {
   "cell_type": "code",
   "execution_count": 8,
   "metadata": {
    "collapsed": true
   },
   "outputs": [],
   "source": [
    "# 切换路径\n",
    "def get_spc_path(father_path,child_path):\n",
    "    os.chdir(father_path)\n",
    "    if os.path.exists(child_path):\n",
    "        os.chdir(child_path)\n",
    "    else:\n",
    "        os.mkdir(child_path)\n",
    "        os.chdir(child_path)\n",
    "    print(\"done!!\")"
   ]
  },
  {
   "cell_type": "markdown",
   "metadata": {},
   "source": [
    "## 1.二级分类层"
   ]
  },
  {
   "cell_type": "code",
   "execution_count": 9,
   "metadata": {
    "collapsed": false
   },
   "outputs": [
    {
     "name": "stdout",
     "output_type": "stream",
     "text": [
      "CPU times: user 0 ns, sys: 0 ns, total: 0 ns\n",
      "Wall time: 8.34 µs\n"
     ]
    }
   ],
   "source": [
    "%%time\n",
    "#获取所有的二级分类url\n",
    "def classify(city_url,city,big_class):\n",
    "    soup = requests_visit_url_test(city_url,is_use_ip=True)\n",
    "    clf_ls = []\n",
    "    for i in soup.select(\".choice-wrap\")[6]:\n",
    "        if hasattr(i,\"NavigableString\"):\n",
    "            if \"不限\" not in i.text.strip():\n",
    "                clf_url = \"http://www.dianping.com\"+i[\"href\"] #分类网址\n",
    "                clf_tl = i.text.strip() # 分类标题\n",
    "                clf_ls.append([big_class,city,clf_tl,clf_url])\n",
    "    return clf_ls"
   ]
  },
  {
   "cell_type": "code",
   "execution_count": 12,
   "metadata": {
    "collapsed": false
   },
   "outputs": [
    {
     "name": "stdout",
     "output_type": "stream",
     "text": [
      "0\n",
      "{'https': 'https://60.169.216.147:41858'}\n",
      "所有二级分类已经获取完毕\n"
     ]
    }
   ],
   "source": [
    "clf_ls = classify(\"http://www.dianping.com/guangzhou/hotel/\",'广州',\"酒店\")\n",
    "print(\"所有二级分类已经获取完毕\")"
   ]
  },
  {
   "cell_type": "code",
   "execution_count": 13,
   "metadata": {
    "collapsed": false
   },
   "outputs": [
    {
     "data": {
      "text/plain": [
       "[['酒店', '广州', '经济型', 'http://www.dianping.com/guangzhou/hotel/g171'],\n",
       " ['酒店', '广州', '五星级/豪华型', 'http://www.dianping.com/guangzhou/hotel/g3020'],\n",
       " ['酒店', '广州', '四星级/高档型', 'http://www.dianping.com/guangzhou/hotel/g3022'],\n",
       " ['酒店', '广州', '三星级/舒适型', 'http://www.dianping.com/guangzhou/hotel/g3024'],\n",
       " ['酒店', '广州', '精品酒店', 'http://www.dianping.com/guangzhou/hotel/g6714'],\n",
       " ['酒店', '广州', '青年旅舍', 'http://www.dianping.com/guangzhou/hotel/g172'],\n",
       " ['酒店', '广州', '公寓式酒店', 'http://www.dianping.com/guangzhou/hotel/g6693'],\n",
       " ['酒店', '广州', '客栈旅舍', 'http://www.dianping.com/guangzhou/hotel/g25842'],\n",
       " ['酒店', '广州', '度假村', 'http://www.dianping.com/guangzhou/hotel/g173'],\n",
       " ['酒店', '广州', '更多酒店住宿', 'http://www.dianping.com/guangzhou/hotel/g174']]"
      ]
     },
     "execution_count": 13,
     "metadata": {},
     "output_type": "execute_result"
    }
   ],
   "source": [
    "clf_ls"
   ]
  },
  {
   "cell_type": "code",
   "execution_count": 60,
   "metadata": {
    "collapsed": false
   },
   "outputs": [
    {
     "name": "stdout",
     "output_type": "stream",
     "text": [
      "0\n",
      "{'https': 'https://115.203.162.13:35761'}\n"
     ]
    }
   ],
   "source": [
    "soup = requests_visit_url_test(\"http://www.dianping.com/guangzhou/hotel/\",is_use_ip = True)"
   ]
  },
  {
   "cell_type": "markdown",
   "metadata": {
    "collapsed": true
   },
   "source": [
    "## 2.区县层"
   ]
  },
  {
   "cell_type": "code",
   "execution_count": 67,
   "metadata": {
    "collapsed": false
   },
   "outputs": [],
   "source": [
    "def get_region(class_ls=None):\n",
    "    print('正在爬取{0}'.format(class_ls[-2]))\n",
    "    url = class_ls[-1]  #url\n",
    "    soup = requests_visit_url_test(url,is_use_ip=True) #访问\n",
    "    region_ls = [] #地区的列表\n",
    "    for i in soup.select(\".J_choice-trigger-wrap-downtown a\"):\n",
    "        if hasattr(i,\"NavigableString\"):\n",
    "            if \"不限\" not in i.text.strip():\n",
    "                region_url = \"http://www.dianping.com\" + i[\"href\"] \n",
    "                region_tl = i.text.strip()\n",
    "                region = class_ls[:-1]\n",
    "                region.extend([region_tl,region_url])\n",
    "                region_ls.append(region)\n",
    "    return region_ls"
   ]
  },
  {
   "cell_type": "code",
   "execution_count": 68,
   "metadata": {
    "collapsed": false
   },
   "outputs": [
    {
     "name": "stdout",
     "output_type": "stream",
     "text": [
      "正在爬取青年旅舍\n",
      "0\n",
      "{'https': 'https://110.85.132.65:8118'}\n"
     ]
    },
    {
     "data": {
      "text/plain": [
       "[['酒店',\n",
       "  '广州',\n",
       "  '青年旅舍',\n",
       "  '黄埔区',\n",
       "  'http://www.dianping.com/guangzhou/hotel/g172r1549'],\n",
       " ['酒店',\n",
       "  '广州',\n",
       "  '青年旅舍',\n",
       "  '花都区',\n",
       "  'http://www.dianping.com/guangzhou/hotel/g172r1552'],\n",
       " ['酒店',\n",
       "  '广州',\n",
       "  '青年旅舍',\n",
       "  '增城区',\n",
       "  'http://www.dianping.com/guangzhou/hotel/g172r1554'],\n",
       " ['酒店',\n",
       "  '广州',\n",
       "  '青年旅舍',\n",
       "  '萝岗区',\n",
       "  'http://www.dianping.com/guangzhou/hotel/g172r1964'],\n",
       " ['酒店',\n",
       "  '广州',\n",
       "  '青年旅舍',\n",
       "  '天河区',\n",
       "  'http://www.dianping.com/guangzhou/hotel/g172r22'],\n",
       " ['酒店',\n",
       "  '广州',\n",
       "  '青年旅舍',\n",
       "  '越秀区',\n",
       "  'http://www.dianping.com/guangzhou/hotel/g172r24'],\n",
       " ['酒店',\n",
       "  '广州',\n",
       "  '青年旅舍',\n",
       "  '海珠区',\n",
       "  'http://www.dianping.com/guangzhou/hotel/g172r25'],\n",
       " ['酒店',\n",
       "  '广州',\n",
       "  '青年旅舍',\n",
       "  '荔湾区',\n",
       "  'http://www.dianping.com/guangzhou/hotel/g172r26'],\n",
       " ['酒店',\n",
       "  '广州',\n",
       "  '青年旅舍',\n",
       "  '白云区',\n",
       "  'http://www.dianping.com/guangzhou/hotel/g172r27'],\n",
       " ['酒店',\n",
       "  '广州',\n",
       "  '青年旅舍',\n",
       "  '番禺区',\n",
       "  'http://www.dianping.com/guangzhou/hotel/g172r621']]"
      ]
     },
     "execution_count": 68,
     "metadata": {},
     "output_type": "execute_result"
    }
   ],
   "source": [
    "get_region(['酒店', '广州', '青年旅舍', 'http://www.dianping.com/guangzhou/hotel/g172'])"
   ]
  },
  {
   "cell_type": "markdown",
   "metadata": {},
   "source": [
    "## 3.商圈层"
   ]
  },
  {
   "cell_type": "code",
   "execution_count": 145,
   "metadata": {
    "collapsed": false
   },
   "outputs": [],
   "source": [
    "def get_circle(region_ls=None):\n",
    "    url = region_ls[-1]\n",
    "    circle_ls =[]\n",
    "    soup = requests_visit_url_test(url,is_use_ip=True)\n",
    "    for i in soup.find_all(class_ = re.compile(\"recom J_choice-content-2nd $\"))[0]:\n",
    "        if hasattr(i,\"NavigableString\"):\n",
    "            if \"全部\" not in i.text.strip():\n",
    "\n",
    "                circle_url = \"http://www.dianping.com\"+i[\"href\"]\n",
    "                circle_tit = i.text\n",
    "                circle = region_ls[:-1] \n",
    "                circle.extend([circle_tit,circle_url]) \n",
    "                circle_ls.append(circle)\n",
    "            \n",
    "#如果没有商圈的话，就拿原来的url当作是商圈的url\n",
    "    if circle_ls==[]:\n",
    "        print(region_ls[-2]+\"没有子分类！！\")\n",
    "        region_ls.insert(4,\"没有商圈\")\n",
    "        circle_ls.append(region_ls)\n",
    "\n",
    "    return circle_ls\n",
    "    "
   ]
  },
  {
   "cell_type": "code",
   "execution_count": 146,
   "metadata": {
    "collapsed": false
   },
   "outputs": [
    {
     "name": "stdout",
     "output_type": "stream",
     "text": [
      "0\n",
      "{'https': 'https://59.40.51.181:8010'}\n"
     ]
    }
   ],
   "source": [
    "soup = requests_visit_url_test(\"http://www.dianping.com/guangzhou/hotel/g172r24\",is_use_ip=True)"
   ]
  },
  {
   "cell_type": "code",
   "execution_count": 149,
   "metadata": {
    "collapsed": false
   },
   "outputs": [
    {
     "name": "stdout",
     "output_type": "stream",
     "text": [
      "0\n",
      "{'https': 'https://153.34.199.194:80'}\n"
     ]
    }
   ],
   "source": [
    "circle_ls =get_circle(['酒店',\n",
    "  '广州',\n",
    "  '青年旅舍',\n",
    "  '天河区',\n",
    "  'http://www.dianping.com/guangzhou/hotel/g172r22'])"
   ]
  },
  {
   "cell_type": "code",
   "execution_count": 150,
   "metadata": {
    "collapsed": false
   },
   "outputs": [
    {
     "data": {
      "text/plain": [
       "[['酒店',\n",
       "  '广州',\n",
       "  '青年旅舍',\n",
       "  '天河区',\n",
       "  '天河城/体育中心',\n",
       "  'http://www.dianping.com/guangzhou/hotel/g172r1519'],\n",
       " ['酒店',\n",
       "  '广州',\n",
       "  '青年旅舍',\n",
       "  '天河区',\n",
       "  '石牌/龙口',\n",
       "  'http://www.dianping.com/guangzhou/hotel/g172r1521'],\n",
       " ['酒店',\n",
       "  '广州',\n",
       "  '青年旅舍',\n",
       "  '天河区',\n",
       "  '车陂/东圃',\n",
       "  'http://www.dianping.com/guangzhou/hotel/g172r2080'],\n",
       " ['酒店',\n",
       "  '广州',\n",
       "  '青年旅舍',\n",
       "  '天河区',\n",
       "  '燕岭/五山',\n",
       "  'http://www.dianping.com/guangzhou/hotel/g172r2094'],\n",
       " ['酒店',\n",
       "  '广州',\n",
       "  '青年旅舍',\n",
       "  '天河区',\n",
       "  '沙河/天平架',\n",
       "  'http://www.dianping.com/guangzhou/hotel/g172r7044'],\n",
       " ['酒店',\n",
       "  '广州',\n",
       "  '青年旅舍',\n",
       "  '天河区',\n",
       "  '天河北',\n",
       "  'http://www.dianping.com/guangzhou/hotel/g172r1520'],\n",
       " ['酒店',\n",
       "  '广州',\n",
       "  '青年旅舍',\n",
       "  '天河区',\n",
       "  '珠江新城',\n",
       "  'http://www.dianping.com/guangzhou/hotel/g172r1522'],\n",
       " ['酒店',\n",
       "  '广州',\n",
       "  '青年旅舍',\n",
       "  '天河区',\n",
       "  '天河公园',\n",
       "  'http://www.dianping.com/guangzhou/hotel/g172r1523'],\n",
       " ['酒店',\n",
       "  '广州',\n",
       "  '青年旅舍',\n",
       "  '天河区',\n",
       "  '天河客运站',\n",
       "  'http://www.dianping.com/guangzhou/hotel/g172r23046'],\n",
       " ['酒店',\n",
       "  '广州',\n",
       "  '青年旅舍',\n",
       "  '天河区',\n",
       "  '小新塘',\n",
       "  'http://www.dianping.com/guangzhou/hotel/g172r23047'],\n",
       " ['酒店',\n",
       "  '广州',\n",
       "  '青年旅舍',\n",
       "  '天河区',\n",
       "  '高德置地/花城汇',\n",
       "  'http://www.dianping.com/guangzhou/hotel/g172r30509'],\n",
       " ['酒店',\n",
       "  '广州',\n",
       "  '青年旅舍',\n",
       "  '天河区',\n",
       "  '兴盛路/跑马场',\n",
       "  'http://www.dianping.com/guangzhou/hotel/g172r30510']]"
      ]
     },
     "execution_count": 150,
     "metadata": {},
     "output_type": "execute_result"
    }
   ],
   "source": [
    "circle_ls"
   ]
  },
  {
   "cell_type": "code",
   "execution_count": 136,
   "metadata": {
    "collapsed": false
   },
   "outputs": [
    {
     "name": "stdout",
     "output_type": "stream",
     "text": [
      "http://www.dianping.com/guangzhou/hotel/g172r1960\n",
      "中山二三路/东山口\n",
      "http://www.dianping.com/guangzhou/hotel/g172r1961\n",
      "五羊新城\n",
      "http://www.dianping.com/guangzhou/hotel/g172r1534\n",
      "中山六路\n",
      "http://www.dianping.com/guangzhou/hotel/g172r1535\n",
      "火车站/人民北路\n",
      "http://www.dianping.com/guangzhou/hotel/g172r1959\n",
      "环市东\n",
      "http://www.dianping.com/guangzhou/hotel/g172r23049\n",
      "海珠广场\n",
      "http://www.dianping.com/guangzhou/hotel/g172r23050\n",
      "东风东/杨箕\n"
     ]
    }
   ],
   "source": [
    "for i in soup.find_all(class_ = re.compile(\"recom J_choice-content-2nd $\"))[0]:\n",
    "    if hasattr(i,\"NavigableString\"):\n",
    "        if \"全部\" not in i.text.strip():\n",
    "            print(\"http://www.dianping.com\"+i[\"href\"])\n",
    "            print(i.text)"
   ]
  },
  {
   "cell_type": "markdown",
   "metadata": {},
   "source": [
    "## 4.商家信息层"
   ]
  },
  {
   "cell_type": "code",
   "execution_count": 13,
   "metadata": {
    "collapsed": true
   },
   "outputs": [],
   "source": [
    "#获取每个商家的链接、店名\n",
    "def get_stores(circle_ls = None):\n",
    "    store_ls=[] #存储的列表\n",
    "    url = circle_ls[-1]  #url\n",
    "    soup = requests_visit_url_test(url,is_use_ip=True,timeout=3)  #访问当前主页\n",
    "    is_continue = True\n",
    "    page = 0\n",
    "    while is_continue:\n",
    "        page += 1\n",
    "        print(\"正在爬取第{0}页\".format(page))\n",
    "        \n",
    "        #解析数据\n",
    "        if soup.select(\".content\") ==[]:\n",
    "            print(\"此页没有任何信息！！\")\n",
    "            store_ls = []\n",
    "            is_continue = False \n",
    "            \n",
    "        else:\n",
    "            for i in soup.select(\".content\"):  \n",
    "                for j in i.select(\".pic\"):\n",
    "                    store_name = j.img[\"alt\"]   #店名\n",
    "                    link = j.a[\"href\"]     #详情层\n",
    "                    store = circle_ls[:5]  #只取前5位\n",
    "                    store.extend([url,store_name,link]) \n",
    "                    store_ls.append(store)\n",
    "\n",
    "\n",
    "            #获取下一页的数据\n",
    "\n",
    "            next_tag = soup.find_all(\"a\",text = re.compile(\"下一页\"))  #获取字符属性为下一页的url\n",
    "            if next_tag != []:                                         #保证含有字符属性\n",
    "                url = next_tag[0][\"href\"]                              #获取下一页的url\n",
    "                soup = requests_visit_url_test(url,is_use_ip=True,timeout=2)   #更新BeautifulSoup对象\n",
    "            else:\n",
    "                url = ''\n",
    "                is_continue  = False                                  #如果没有下一页，就停止更新\n",
    "    \n",
    "    return store_ls"
   ]
  },
  {
   "cell_type": "code",
   "execution_count": 151,
   "metadata": {
    "collapsed": false
   },
   "outputs": [
    {
     "ename": "TypeError",
     "evalue": "requests_visit_url_test() missing 1 required positional argument: 'url'",
     "output_type": "error",
     "traceback": [
      "\u001b[0;31m---------------------------------------------------------------------------\u001b[0m",
      "\u001b[0;31mTypeError\u001b[0m                                 Traceback (most recent call last)",
      "\u001b[0;32m<ipython-input-151-75775318379e>\u001b[0m in \u001b[0;36m<module>\u001b[0;34m()\u001b[0m\n\u001b[0;32m----> 1\u001b[0;31m \u001b[0msoup\u001b[0m \u001b[0;34m=\u001b[0m \u001b[0mrequests_visit_url_test\u001b[0m\u001b[0;34m(\u001b[0m\u001b[0;34m)\u001b[0m\u001b[0;34m\u001b[0m\u001b[0m\n\u001b[0m",
      "\u001b[0;31mTypeError\u001b[0m: requests_visit_url_test() missing 1 required positional argument: 'url'"
     ]
    }
   ],
   "source": [
    "soup = requests_visit_url_test(\"\")"
   ]
  },
  {
   "cell_type": "markdown",
   "metadata": {},
   "source": [
    "## 5.详情层"
   ]
  },
  {
   "cell_type": "code",
   "execution_count": 14,
   "metadata": {
    "collapsed": false
   },
   "outputs": [],
   "source": [
    "#获取详情层的数据，如星级用户、浏览人数、均价\n",
    "def get_info(store_ls=None):\n",
    "    \n",
    "    #首先先保证导入的数据不为空\n",
    "    if store_ls !=[]:\n",
    "        url = store_ls[-1] #详情信息表\n",
    "        soup = requests_visit_url_test(url,is_use_ip =True,timeout=2)\n",
    "        try:\n",
    "            start = soup.select(\".mid-rank-stars\")[0][\"title\"]       #星级用户\n",
    "        except Exception as e:\n",
    "            print(\"start\",e)\n",
    "            start = ''\n",
    "\n",
    "        try:\n",
    "            review_count = soup.select(\"#reviewCount\")[0].text  #浏览人数\n",
    "        except Exception as e:\n",
    "            review_count = ''\n",
    "            print(\"review_coun\",e)\n",
    "\n",
    "        try:\n",
    "            avgprice = soup.select(\"#avgPriceTitle\")[0].text   #均价\n",
    "        except Exception as e:\n",
    "            avgprice = ''\n",
    "            print(\"avgprice\",e)\n",
    "\n",
    "        #评分系统\n",
    "        try:\n",
    "            score= []\n",
    "            for j in soup.select(\"#comment_score .item\"):\n",
    "                score.append(j.text)\n",
    "            score = \"|\".join(score)\n",
    "\n",
    "        except Exception as e:\n",
    "            score = \"\"\n",
    "            print(\"score\",e)\n",
    "\n",
    "        try:   \n",
    "            address = soup.select(\".address .item\")[0].text.strip() #地址\n",
    "        except Exception as e:\n",
    "            address = ''\n",
    "            print(\"address出错了\",e)\n",
    "\n",
    "        #电话号码\n",
    "        try:\n",
    "            tel =[]\n",
    "            for i in soup.select(\".tel .item\"):\n",
    "                tel.append(i.text)\n",
    "            tel = \"|\".join(tel)\n",
    "\n",
    "        except:\n",
    "            tel=\"\"\n",
    "            print(\"tel出错了\",e)\n",
    "\n",
    "        #路径\n",
    "        try:\n",
    "            path = []\n",
    "            for i in soup.select(\".breadcrumb a\"):\n",
    "                path.append(i.text.strip())\n",
    "            path ='>'.join(path)\n",
    "        except Exception as e:\n",
    "            print(\"path出错了\",e)\n",
    "            path =''\n",
    "            \n",
    "        #五星评论人数\n",
    "        try:\n",
    "            \n",
    "            five_starts = soup.find_all(id=re.compile(\"reviewCountStar\\d\"))\n",
    "            if five_starts ==[]:\n",
    "                five =''\n",
    "                four =''\n",
    "                three =''\n",
    "                two =''\n",
    "                one =''\n",
    "            else:\n",
    "                five,four,three,two,one = list(map(lambda x:x.text.strip(),five_starts))\n",
    "        except Exception as e:\n",
    "            print(\"五星评论人数出错\",\"---->\",e)\n",
    "            five =''\n",
    "            four =''\n",
    "            three =''\n",
    "            two =''\n",
    "            one =''\n",
    "\n",
    "        info = store_ls[:]\n",
    "        info.extend([start,review_count,avgprice,score,address,tel,five,four,three,two,one,path])\n",
    "        time.sleep(1)\n",
    "    return info\n"
   ]
  },
  {
   "cell_type": "markdown",
   "metadata": {
    "collapsed": false
   },
   "source": [
    "## 6 主程序"
   ]
  },
  {
   "cell_type": "code",
   "execution_count": 11,
   "metadata": {
    "collapsed": false
   },
   "outputs": [
    {
     "name": "stdout",
     "output_type": "stream",
     "text": [
      "http://www.xicidaili.com/nn/\n",
      "{'Accept': 'application/json, text/javascript, */*; q=0.01', 'Accept-Encoding': 'gzip, deflate, br', 'Accept-Language': 'zh-CN,zh;q=0.8', 'Connection': 'keep-alive', 'Content-Type': 'application/x-www-form-urlencoded; charset=UTF-8', 'User-Agent': 'Mozilla/5.0 (Windows NT 6.1) AppleWebKit/536.3 (KHTML, like Gecko) Chrome/19.0.1061.1 Safari/536.3'}\n",
      "坏ip: ['http', 'http://114.115.216.99:80']\n",
      "坏ip: ['http', 'http://122.4.29.200:47088']\n",
      "坏ip: ['http', 'http://222.76.144.133:35610']\n",
      "坏ip: ['http', 'http://125.113.252.185:41030']\n",
      "坏ip: ['http', 'http://110.73.30.145:8123']\n",
      "坏ip: ['http', 'http://171.39.30.14:8123']\n",
      "坏ip: ['http', 'http://101.64.103.251:9999']\n",
      "坏ip: ['http', 'http://171.39.73.56:8123']\n",
      "坏ip: ['http', 'http://123.55.178.34:35633']\n",
      "坏ip: ['http', 'http://182.88.254.109:8123']\n",
      "坏ip: ['http', 'http://110.72.16.172:8123']\n",
      "坏ip: ['http', 'http://110.73.52.23:8123']\n",
      "坏ip: ['http', 'http://110.73.29.184:8123']\n",
      "坏ip: ['http', 'http://110.73.13.93:8123']\n",
      "坏ip: ['http', 'http://110.73.30.203:8123']\n",
      "坏ip: ['http', 'http://122.4.46.163:26011']\n",
      "坏ip: ['http', 'http://182.42.36.232:808']\n",
      "坏ip: ['http', 'http://182.45.241.147:9999']\n",
      "坏ip: ['http', 'http://183.130.10.85:80']\n",
      "坏ip: ['http', 'http://180.118.47.45:34396']\n",
      "坏ip: ['http', 'http://114.230.219.104:47988']\n",
      "坏ip: ['http', 'http://123.163.167.0:29340']\n"
     ]
    }
   ],
   "source": [
    "global ip_pool\n",
    "ip_url = ['http://www.xicidaili.com/nn/']\n",
    "test_url = \"http://www.dianping.com/shop/9310903\"\n",
    "ip_pool= Ip_pool(ip_url).get_ip_pool(test_url)"
   ]
  },
  {
   "cell_type": "markdown",
   "metadata": {},
   "source": [
    "##### 6.1获取所有的二级分类"
   ]
  },
  {
   "cell_type": "code",
   "execution_count": null,
   "metadata": {
    "collapsed": false
   },
   "outputs": [],
   "source": [
    "%%time\n",
    "\n",
    "clf_ls = classify(\"http://www.dianping.com/search/category/219/10\",'东莞',\"美食\")\n",
    "print(\"所有二级分类已经获取完毕\")"
   ]
  },
  {
   "cell_type": "markdown",
   "metadata": {},
   "source": [
    "#### 6.2 获取所有的行政区"
   ]
  },
  {
   "cell_type": "code",
   "execution_count": null,
   "metadata": {
    "collapsed": true
   },
   "outputs": [],
   "source": [
    "\n",
    "region_ls = list(map(get_region,clf_ls))\n",
    "print(\"获取所有的区域清单\") "
   ]
  },
  {
   "cell_type": "code",
   "execution_count": null,
   "metadata": {
    "collapsed": false
   },
   "outputs": [],
   "source": [
    "#解链\n",
    "region_ls = list(itertools.chain.from_iterable(region_ls))\n",
    "region_ls"
   ]
  },
  {
   "cell_type": "markdown",
   "metadata": {},
   "source": [
    "#### 6.3 获取所有的商圈信息"
   ]
  },
  {
   "cell_type": "code",
   "execution_count": null,
   "metadata": {
    "collapsed": false
   },
   "outputs": [],
   "source": [
    "%%time\n",
    "#***************获取所有的商圈信息****************************888\n",
    "circle_ls = list(map(get_circle,region_ls))"
   ]
  },
  {
   "cell_type": "code",
   "execution_count": null,
   "metadata": {
    "collapsed": false
   },
   "outputs": [],
   "source": [
    "#解链\n",
    "circle_ls = list(itertools.chain.from_iterable(circle_ls))"
   ]
  },
  {
   "cell_type": "markdown",
   "metadata": {},
   "source": [
    "#### 6.4保存所有的商圈内容"
   ]
  },
  {
   "cell_type": "code",
   "execution_count": null,
   "metadata": {
    "collapsed": false
   },
   "outputs": [],
   "source": [
    "get_spc_path(\"/home/zhh/dzdp_data/\",\"dgmeishi\")"
   ]
  },
  {
   "cell_type": "code",
   "execution_count": null,
   "metadata": {
    "collapsed": false
   },
   "outputs": [],
   "source": [
    "save_cache(circle_ls,\"/home/zhh/dzdp_data/dgmeishi/东莞_circle_ls.pickle\")"
   ]
  },
  {
   "cell_type": "markdown",
   "metadata": {},
   "source": [
    "#### 6.5 切块访问"
   ]
  },
  {
   "cell_type": "code",
   "execution_count": null,
   "metadata": {
    "collapsed": false
   },
   "outputs": [],
   "source": [
    "circle_ls = read_cache(\"/home/zhh/dzdp_data/dgmeishi/东莞_circle_ls.pickle\")\n",
    "print(len(circle_ls))\n",
    "circle_chunk = get_chunk(circle_ls,5)\n",
    "len(circle_chunk)"
   ]
  },
  {
   "cell_type": "code",
   "execution_count": null,
   "metadata": {
    "collapsed": false
   },
   "outputs": [],
   "source": [
    "# offset=1\n",
    "# save_cache(offset,\"/home/zhh/dzdp_data/dgmeishi/东莞_offset.pickle\")"
   ]
  },
  {
   "cell_type": "code",
   "execution_count": null,
   "metadata": {
    "collapsed": false,
    "scrolled": true
   },
   "outputs": [],
   "source": [
    "%%time\n",
    "if __name__=='__main__':\n",
    "    \n",
    "    \n",
    "    is_continue = True\n",
    "    while is_continue:\n",
    "        \n",
    "        try:\n",
    "            #如果偏移量已经达到了660,跳出整个大循环\n",
    "            offset = read_cache(\"/home/zhh/dzdp_data/dgmeishi/东莞_offset.pickle\")\n",
    "            end = len(circle_chunk)\n",
    "            if offset >= len(circle_chunk):\n",
    "                print(\"整个程序已经完毕！！！\")\n",
    "                break\n",
    "                \n",
    "            #************爬取代理ip******************\n",
    "            global ip_pool\n",
    "            ip_url = ['http://www.xicidaili.com/nn/']\n",
    "            test_url = \"http://www.dianping.com/shop/2954893\"\n",
    "            ip_pool= Ip_pool(ip_url).get_ip_pool(test_url)\n",
    "        \n",
    "                \n",
    "            #***********多进程处理*************************\n",
    "            for index,chunk in enumerate(circle_chunk[offset:end]):\n",
    "                offset_index = offset + index                       #偏移量+计数器\n",
    "                print(\"正在爬第{0}chunk\".format(offset_index))\n",
    "                pool = multiprocessing.Pool(processes=3)           # 创建3个进程\n",
    "                result = []\n",
    "                for i in chunk:\n",
    "                    result.append(pool.apply_async(get_stores, (i, ))) #将参数全部加进去\n",
    "                pool.close()                                  # 关闭进程池，表示不能再往进程池中添加进程，需要在join之前调用\n",
    "                pool.join()                                   # 等待进程池中的所有进程执行完毕\n",
    "                \n",
    "                #***********遍历每个进程的结果*****************\n",
    "                store_ls = []\n",
    "                for res in result:\n",
    "                    store_ls.append(res.get())               #\n",
    "                \n",
    "                #***********获取每一个chunk的内容****************\n",
    "                print(\"第{0}chunk已经爬完了\".format(offset_index))\n",
    "                store_ls = list(itertools.chain.from_iterable(store_ls))\n",
    "                save_cache(store_ls,\"/home/zhh/dzdp_data/dgmeishi/东莞_store_ls_{0}_chunk.pickle\".format(offset_index))\n",
    "                \n",
    "                #********爬完直接将偏移量设为下一个*************************\n",
    "                last_offset_1 = offset_index+1\n",
    "                save_cache(last_offset_1,\"/home/zhh/dzdp_data/dgmeishi/东莞_offset.pickle\")\n",
    "                \n",
    "        #***************如果出现ChunkedEncodingError重复执行这段代码*********************     \n",
    "        except ChunkedEncodingError as e:\n",
    "            print(\"出现ChunkedEncodingError\")\n",
    "            last_offset_2 = offset_index\n",
    "            print(\"chunkedEncodingError保存offset:{0}\".format(last_offset_2))\n",
    "            save_cache(last_offset_2,\"/home/zhh/dzdp_data/dgmeishi/东莞_offset.pickle\")\n",
    "            continue\n",
    "            \n",
    "        #***************如果出现ChunkedEncodingError重复执行这段代码*********************      \n",
    "        except KeyboardInterrupt as e:\n",
    "            print(\"手动停止\")\n",
    "            last_offset_3 = offset_index\n",
    "            print(\"KeyboardInterrupt保存现有的offset:{0}\".format(last_offset_3))\n",
    "            save_cache(last_offset_3,\"/home/zhh/dzdp_data/dgmeishi/东莞_offset.pickle\")\n",
    "            break\n",
    "            \n",
    "            \n",
    "#     print(\"***********准备爬商家的详情信息******************\")\n",
    "#     pool = multiprocessing.Pool(processes=3) # 创建3个进程\n",
    "#     result=[]\n",
    "#     for i in store_ls:\n",
    "#         result.append(pool.apply_async(get_info,(i,)))\n",
    "#     pool.close()\n",
    "#     pool.join()\n",
    "    \n",
    "#     print(\"信息页已经爬完了！！\")\n",
    "#     info_ls=[]\n",
    "#     for res in result:\n",
    "#         info_ls.append(res.get())\n",
    "#     save_cache(info_ls,\"/media/zhh/东方国信/智润安排/移动互联网需求/爬虫/缓存/广州_info_test_ls.pickle\")"
   ]
  },
  {
   "cell_type": "markdown",
   "metadata": {
    "collapsed": false
   },
   "source": [
    "## 爬取所有的商家信息"
   ]
  },
  {
   "cell_type": "code",
   "execution_count": 21,
   "metadata": {
    "collapsed": false
   },
   "outputs": [],
   "source": [
    "def merge_chunk(file_dir,regrex=\"(.*?_store_ls_\\d+_chunk.pickle)\"):\n",
    "    file_ls = os.listdir(file_dir)  #得出列出文件\n",
    "    re_ptn = re.compile(regrex)   #正则表达式\n",
    "    files = []\n",
    "    result =[]\n",
    "    for i in file_ls:\n",
    "        if re_ptn.search(i):\n",
    "            files.append(i)\n",
    "    \n",
    "    print(\"合并{0}个chunk\".format(len(files)))\n",
    "    for i in files:\n",
    "        sub_result = read_cache(file_dir+i)\n",
    "        result.extend(sub_result)\n",
    "    return result"
   ]
  },
  {
   "cell_type": "markdown",
   "metadata": {
    "collapsed": false
   },
   "source": [
    "##### 佛山"
   ]
  },
  {
   "cell_type": "code",
   "execution_count": 22,
   "metadata": {
    "collapsed": false
   },
   "outputs": [
    {
     "name": "stdout",
     "output_type": "stream",
     "text": [
      "合并214个chunk\n"
     ]
    }
   ],
   "source": [
    "result = merge_chunk(\"/home/zhh/dzdp_data/fsmeishi/\")"
   ]
  },
  {
   "cell_type": "code",
   "execution_count": 23,
   "metadata": {
    "collapsed": false
   },
   "outputs": [
    {
     "data": {
      "text/plain": [
       "3110"
      ]
     },
     "execution_count": 23,
     "metadata": {},
     "output_type": "execute_result"
    }
   ],
   "source": [
    "info_chunk = get_chunk(result,10)\n",
    "len(info_chunk)"
   ]
  },
  {
   "cell_type": "code",
   "execution_count": 24,
   "metadata": {
    "collapsed": false
   },
   "outputs": [
    {
     "data": {
      "text/plain": [
       "[[['美食',\n",
       "   '佛山',\n",
       "   '西北菜',\n",
       "   '南海区',\n",
       "   '保利水城',\n",
       "   'http://www.dianping.com/search/category/208/10/g26481r66732',\n",
       "   '九毛九山西面馆(保利水城店)',\n",
       "   'http://www.dianping.com/shop/22405680'],\n",
       "  ['美食',\n",
       "   '佛山',\n",
       "   '西北菜',\n",
       "   '南海区',\n",
       "   '中海环宇城',\n",
       "   'http://www.dianping.com/search/category/208/10/g26481r70294',\n",
       "   '陇·牛一碗(中海寰宇店)',\n",
       "   'http://www.dianping.com/shop/69485224'],\n",
       "  ['美食',\n",
       "   '佛山',\n",
       "   '西北菜',\n",
       "   '南海区',\n",
       "   '越秀广场',\n",
       "   'http://www.dianping.com/search/category/208/10/g26481r70305',\n",
       "   '陇·牛一碗(越秀悦汇天地店)',\n",
       "   'http://www.dianping.com/shop/76881460'],\n",
       "  ['美食',\n",
       "   '佛山',\n",
       "   '西北菜',\n",
       "   '三水区',\n",
       "   '西南',\n",
       "   'http://www.dianping.com/search/category/208/10/g26481r6144',\n",
       "   '面东家(恒福广场店)',\n",
       "   'http://www.dianping.com/shop/8849541'],\n",
       "  ['美食',\n",
       "   '佛山',\n",
       "   '西北菜',\n",
       "   '三水区',\n",
       "   '西南',\n",
       "   'http://www.dianping.com/search/category/208/10/g26481r6144',\n",
       "   '西北兰州牛肉拉面',\n",
       "   'http://www.dianping.com/shop/21162007'],\n",
       "  ['美食',\n",
       "   '佛山',\n",
       "   '西北菜',\n",
       "   '三水区',\n",
       "   '西南',\n",
       "   'http://www.dianping.com/search/category/208/10/g26481r6144',\n",
       "   '聚高新能源有限公司',\n",
       "   'http://www.dianping.com/shop/72367888'],\n",
       "  ['美食',\n",
       "   '佛山',\n",
       "   '西北菜',\n",
       "   '高明区',\n",
       "   '荷城',\n",
       "   'http://www.dianping.com/search/category/208/10/g26481r8285',\n",
       "   '面东家(高明店)',\n",
       "   'http://www.dianping.com/shop/6591654'],\n",
       "  ['美食',\n",
       "   '佛山',\n",
       "   '西北菜',\n",
       "   '高明区',\n",
       "   '荷城',\n",
       "   'http://www.dianping.com/search/category/208/10/g26481r8285',\n",
       "   '稻草屋',\n",
       "   'http://www.dianping.com/shop/65113755'],\n",
       "  ['美食',\n",
       "   '佛山',\n",
       "   '湘菜',\n",
       "   '顺德区',\n",
       "   '勒流街道',\n",
       "   'http://www.dianping.com/search/category/208/10/g104r38339',\n",
       "   '品湘楼',\n",
       "   'http://www.dianping.com/shop/8028106'],\n",
       "  ['美食',\n",
       "   '佛山',\n",
       "   '湘菜',\n",
       "   '顺德区',\n",
       "   '勒流街道',\n",
       "   'http://www.dianping.com/search/category/208/10/g104r38339',\n",
       "   '情湘阁湘菜馆',\n",
       "   'http://www.dianping.com/shop/9310903']],\n",
       " [['美食',\n",
       "   '佛山',\n",
       "   '湘菜',\n",
       "   '顺德区',\n",
       "   '勒流街道',\n",
       "   'http://www.dianping.com/search/category/208/10/g104r38339',\n",
       "   '品湘楼',\n",
       "   'http://www.dianping.com/shop/10446061'],\n",
       "  ['美食',\n",
       "   '佛山',\n",
       "   '湘菜',\n",
       "   '顺德区',\n",
       "   '勒流街道',\n",
       "   'http://www.dianping.com/search/category/208/10/g104r38339',\n",
       "   '江粤美食',\n",
       "   'http://www.dianping.com/shop/9310235'],\n",
       "  ['美食',\n",
       "   '佛山',\n",
       "   '湘菜',\n",
       "   '顺德区',\n",
       "   '勒流街道',\n",
       "   'http://www.dianping.com/search/category/208/10/g104r38339',\n",
       "   '湘妃人家',\n",
       "   'http://www.dianping.com/shop/16599660'],\n",
       "  ['美食',\n",
       "   '佛山',\n",
       "   '湘菜',\n",
       "   '顺德区',\n",
       "   '陈村镇',\n",
       "   'http://www.dianping.com/search/category/208/10/g104r38342',\n",
       "   '湘湾土菜馆(陈村店)',\n",
       "   'http://www.dianping.com/shop/3289555'],\n",
       "  ['美食',\n",
       "   '佛山',\n",
       "   '湘菜',\n",
       "   '顺德区',\n",
       "   '陈村镇',\n",
       "   'http://www.dianping.com/search/category/208/10/g104r38342',\n",
       "   '和湘园饭店',\n",
       "   'http://www.dianping.com/shop/9310117'],\n",
       "  ['美食',\n",
       "   '佛山',\n",
       "   '湘菜',\n",
       "   '顺德区',\n",
       "   '陈村镇',\n",
       "   'http://www.dianping.com/search/category/208/10/g104r38342',\n",
       "   '鱼头王湘粤食府',\n",
       "   'http://www.dianping.com/shop/10443642'],\n",
       "  ['美食',\n",
       "   '佛山',\n",
       "   '湘菜',\n",
       "   '顺德区',\n",
       "   '杏坛镇',\n",
       "   'http://www.dianping.com/search/category/208/10/g104r38345',\n",
       "   '湖南大碗菜',\n",
       "   'http://www.dianping.com/shop/32420961'],\n",
       "  ['美食',\n",
       "   '佛山',\n",
       "   '湘菜',\n",
       "   '顺德区',\n",
       "   '北滘镇',\n",
       "   'http://www.dianping.com/search/category/208/10/g104r64951',\n",
       "   '恋湘味饭店',\n",
       "   'http://www.dianping.com/shop/24066816'],\n",
       "  ['美食',\n",
       "   '佛山',\n",
       "   '湘菜',\n",
       "   '顺德区',\n",
       "   '顺德区其他',\n",
       "   'http://www.dianping.com/search/category/208/10/g104r341',\n",
       "   '味道真湘(均安店)',\n",
       "   'http://www.dianping.com/shop/95244578'],\n",
       "  ['美食',\n",
       "   '佛山',\n",
       "   '湘菜',\n",
       "   '顺德区',\n",
       "   '顺德区其他',\n",
       "   'http://www.dianping.com/search/category/208/10/g104r341',\n",
       "   '七寸嘴',\n",
       "   'http://www.dianping.com/shop/92038891']],\n",
       " [['美食',\n",
       "   '佛山',\n",
       "   '湘菜',\n",
       "   '顺德区',\n",
       "   '顺德区其他',\n",
       "   'http://www.dianping.com/search/category/208/10/g104r341',\n",
       "   '虾品阁',\n",
       "   'http://www.dianping.com/shop/83505814'],\n",
       "  ['美食',\n",
       "   '佛山',\n",
       "   '湘菜',\n",
       "   '顺德区',\n",
       "   '顺德区其他',\n",
       "   'http://www.dianping.com/search/category/208/10/g104r341',\n",
       "   '柴灶渔港(陈村店)',\n",
       "   'http://www.dianping.com/shop/66810520'],\n",
       "  ['美食',\n",
       "   '佛山',\n",
       "   '湘菜',\n",
       "   '顺德区',\n",
       "   '顺德区其他',\n",
       "   'http://www.dianping.com/search/category/208/10/g104r341',\n",
       "   '九哥龙虾馆',\n",
       "   'http://www.dianping.com/shop/23554762'],\n",
       "  ['美食',\n",
       "   '佛山',\n",
       "   '湘菜',\n",
       "   '顺德区',\n",
       "   '顺德区其他',\n",
       "   'http://www.dianping.com/search/category/208/10/g104r341',\n",
       "   '他湘湘菜馆(北滘店)',\n",
       "   'http://www.dianping.com/shop/63163542'],\n",
       "  ['美食',\n",
       "   '佛山',\n",
       "   '湘菜',\n",
       "   '顺德区',\n",
       "   '顺德区其他',\n",
       "   'http://www.dianping.com/search/category/208/10/g104r341',\n",
       "   '王家湾',\n",
       "   'http://www.dianping.com/shop/69411433'],\n",
       "  ['美食',\n",
       "   '佛山',\n",
       "   '湘菜',\n",
       "   '顺德区',\n",
       "   '顺德区其他',\n",
       "   'http://www.dianping.com/search/category/208/10/g104r341',\n",
       "   '湖南大碗菜(北滘店)',\n",
       "   'http://www.dianping.com/shop/59165539'],\n",
       "  ['美食',\n",
       "   '佛山',\n",
       "   '湘菜',\n",
       "   '顺德区',\n",
       "   '顺德区其他',\n",
       "   'http://www.dianping.com/search/category/208/10/g104r341',\n",
       "   '三月里',\n",
       "   'http://www.dianping.com/shop/93184045'],\n",
       "  ['美食',\n",
       "   '佛山',\n",
       "   '湘菜',\n",
       "   '顺德区',\n",
       "   '顺德区其他',\n",
       "   'http://www.dianping.com/search/category/208/10/g104r341',\n",
       "   '味道真湘(水藤店)',\n",
       "   'http://www.dianping.com/shop/27389133'],\n",
       "  ['美食',\n",
       "   '佛山',\n",
       "   '湘菜',\n",
       "   '顺德区',\n",
       "   '顺德区其他',\n",
       "   'http://www.dianping.com/search/category/208/10/g104r341',\n",
       "   '味道真湘(勒流店)',\n",
       "   'http://www.dianping.com/shop/66969434'],\n",
       "  ['美食',\n",
       "   '佛山',\n",
       "   '湘菜',\n",
       "   '顺德区',\n",
       "   '顺德区其他',\n",
       "   'http://www.dianping.com/search/category/208/10/g104r341',\n",
       "   '湘阁里辣',\n",
       "   'http://www.dianping.com/shop/14900733']],\n",
       " [['美食',\n",
       "   '佛山',\n",
       "   '湘菜',\n",
       "   '顺德区',\n",
       "   '顺德区其他',\n",
       "   'http://www.dianping.com/search/category/208/10/g104r341',\n",
       "   '强哥湘菜馆',\n",
       "   'http://www.dianping.com/shop/96249398'],\n",
       "  ['美食',\n",
       "   '佛山',\n",
       "   '湘菜',\n",
       "   '顺德区',\n",
       "   '顺德区其他',\n",
       "   'http://www.dianping.com/search/category/208/10/g104r341',\n",
       "   '湖南小炒肉',\n",
       "   'http://www.dianping.com/shop/24601225'],\n",
       "  ['美食',\n",
       "   '佛山',\n",
       "   '湘菜',\n",
       "   '顺德区',\n",
       "   '顺德区其他',\n",
       "   'http://www.dianping.com/search/category/208/10/g104r341',\n",
       "   '洞庭湖湘菜馆',\n",
       "   'http://www.dianping.com/shop/67928630'],\n",
       "  ['美食',\n",
       "   '佛山',\n",
       "   '湘菜',\n",
       "   '顺德区',\n",
       "   '顺德区其他',\n",
       "   'http://www.dianping.com/search/category/208/10/g104r341p2?aid=95244578',\n",
       "   '味道真湘(乐从店)',\n",
       "   'http://www.dianping.com/shop/48606347'],\n",
       "  ['美食',\n",
       "   '佛山',\n",
       "   '湘菜',\n",
       "   '顺德区',\n",
       "   '顺德区其他',\n",
       "   'http://www.dianping.com/search/category/208/10/g104r341p2?aid=95244578',\n",
       "   '恋饭',\n",
       "   'http://www.dianping.com/shop/92106835'],\n",
       "  ['美食',\n",
       "   '佛山',\n",
       "   '湘菜',\n",
       "   '顺德区',\n",
       "   '顺德区其他',\n",
       "   'http://www.dianping.com/search/category/208/10/g104r341p2?aid=95244578',\n",
       "   '上品石锅鱼湘菜馆(碧江店)',\n",
       "   'http://www.dianping.com/shop/67956191'],\n",
       "  ['美食',\n",
       "   '佛山',\n",
       "   '湘菜',\n",
       "   '顺德区',\n",
       "   '顺德区其他',\n",
       "   'http://www.dianping.com/search/category/208/10/g104r341p2?aid=95244578',\n",
       "   '湘湾土菜馆(北滘店)',\n",
       "   'http://www.dianping.com/shop/15106020'],\n",
       "  ['美食',\n",
       "   '佛山',\n",
       "   '湘菜',\n",
       "   '顺德区',\n",
       "   '顺德区其他',\n",
       "   'http://www.dianping.com/search/category/208/10/g104r341p2?aid=95244578',\n",
       "   '小碗厨',\n",
       "   'http://www.dianping.com/shop/93014595'],\n",
       "  ['美食',\n",
       "   '佛山',\n",
       "   '湘菜',\n",
       "   '顺德区',\n",
       "   '顺德区其他',\n",
       "   'http://www.dianping.com/search/category/208/10/g104r341p2?aid=95244578',\n",
       "   '厨嫂当家(龙江店)',\n",
       "   'http://www.dianping.com/shop/91049944'],\n",
       "  ['美食',\n",
       "   '佛山',\n",
       "   '湘菜',\n",
       "   '顺德区',\n",
       "   '顺德区其他',\n",
       "   'http://www.dianping.com/search/category/208/10/g104r341p2?aid=95244578',\n",
       "   '毛家石锅鱼',\n",
       "   'http://www.dianping.com/shop/18229536']],\n",
       " [['美食',\n",
       "   '佛山',\n",
       "   '湘菜',\n",
       "   '顺德区',\n",
       "   '顺德区其他',\n",
       "   'http://www.dianping.com/search/category/208/10/g104r341p2?aid=95244578',\n",
       "   '味道真湘(龙山店)',\n",
       "   'http://www.dianping.com/shop/65960203'],\n",
       "  ['美食',\n",
       "   '佛山',\n",
       "   '湘菜',\n",
       "   '顺德区',\n",
       "   '顺德区其他',\n",
       "   'http://www.dianping.com/search/category/208/10/g104r341p2?aid=95244578',\n",
       "   '四哥龙虾馆',\n",
       "   'http://www.dianping.com/shop/92711873'],\n",
       "  ['美食',\n",
       "   '佛山',\n",
       "   '湘菜',\n",
       "   '顺德区',\n",
       "   '顺德区其他',\n",
       "   'http://www.dianping.com/search/category/208/10/g104r341p2?aid=95244578',\n",
       "   '西湘记',\n",
       "   'http://www.dianping.com/shop/77447565'],\n",
       "  ['美食',\n",
       "   '佛山',\n",
       "   '湘菜',\n",
       "   '顺德区',\n",
       "   '顺德区其他',\n",
       "   'http://www.dianping.com/search/category/208/10/g104r341p2?aid=95244578',\n",
       "   '湘当滋味',\n",
       "   'http://www.dianping.com/shop/73400844'],\n",
       "  ['美食',\n",
       "   '佛山',\n",
       "   '湘菜',\n",
       "   '顺德区',\n",
       "   '顺德区其他',\n",
       "   'http://www.dianping.com/search/category/208/10/g104r341p2?aid=95244578',\n",
       "   '居家湘土菜馆',\n",
       "   'http://www.dianping.com/shop/40467389'],\n",
       "  ['美食',\n",
       "   '佛山',\n",
       "   '湘菜',\n",
       "   '顺德区',\n",
       "   '顺德区其他',\n",
       "   'http://www.dianping.com/search/category/208/10/g104r341p2?aid=95244578',\n",
       "   '寻湘味餐厅(乐从店)',\n",
       "   'http://www.dianping.com/shop/43790696'],\n",
       "  ['美食',\n",
       "   '佛山',\n",
       "   '湘菜',\n",
       "   '顺德区',\n",
       "   '顺德区其他',\n",
       "   'http://www.dianping.com/search/category/208/10/g104r341p2?aid=95244578',\n",
       "   '土味轩大碗菜',\n",
       "   'http://www.dianping.com/shop/73422731'],\n",
       "  ['美食',\n",
       "   '佛山',\n",
       "   '湘菜',\n",
       "   '顺德区',\n",
       "   '顺德区其他',\n",
       "   'http://www.dianping.com/search/category/208/10/g104r341p2?aid=95244578',\n",
       "   '湘和天下',\n",
       "   'http://www.dianping.com/shop/68247822'],\n",
       "  ['美食',\n",
       "   '佛山',\n",
       "   '湘菜',\n",
       "   '顺德区',\n",
       "   '顺德区其他',\n",
       "   'http://www.dianping.com/search/category/208/10/g104r341p3?aid=95244578',\n",
       "   '万都湘',\n",
       "   'http://www.dianping.com/shop/76089091'],\n",
       "  ['美食',\n",
       "   '佛山',\n",
       "   '湘菜',\n",
       "   '顺德区',\n",
       "   '顺德区其他',\n",
       "   'http://www.dianping.com/search/category/208/10/g104r341p3?aid=95244578',\n",
       "   '湘正府',\n",
       "   'http://www.dianping.com/shop/40197479']],\n",
       " [['美食',\n",
       "   '佛山',\n",
       "   '湘菜',\n",
       "   '顺德区',\n",
       "   '顺德区其他',\n",
       "   'http://www.dianping.com/search/category/208/10/g104r341p3?aid=95244578',\n",
       "   '乡里厨嫂(龙江店)',\n",
       "   'http://www.dianping.com/shop/67137950'],\n",
       "  ['美食',\n",
       "   '佛山',\n",
       "   '湘菜',\n",
       "   '顺德区',\n",
       "   '顺德区其他',\n",
       "   'http://www.dianping.com/search/category/208/10/g104r341p3?aid=95244578',\n",
       "   '小香厨(水藤店)',\n",
       "   'http://www.dianping.com/shop/23998297'],\n",
       "  ['美食',\n",
       "   '佛山',\n",
       "   '湘菜',\n",
       "   '顺德区',\n",
       "   '顺德区其他',\n",
       "   'http://www.dianping.com/search/category/208/10/g104r341p3?aid=95244578',\n",
       "   '醉湘楼',\n",
       "   'http://www.dianping.com/shop/19293658'],\n",
       "  ['美食',\n",
       "   '佛山',\n",
       "   '湘菜',\n",
       "   '顺德区',\n",
       "   '顺德区其他',\n",
       "   'http://www.dianping.com/search/category/208/10/g104r341p3?aid=95244578',\n",
       "   '江西修水土菜馆',\n",
       "   'http://www.dianping.com/shop/57480940'],\n",
       "  ['美食',\n",
       "   '佛山',\n",
       "   '湘菜',\n",
       "   '顺德区',\n",
       "   '顺德区其他',\n",
       "   'http://www.dianping.com/search/category/208/10/g104r341p3?aid=95244578',\n",
       "   '大地楚味湘菜馆',\n",
       "   'http://www.dianping.com/shop/69663137'],\n",
       "  ['美食',\n",
       "   '佛山',\n",
       "   '湘菜',\n",
       "   '顺德区',\n",
       "   '顺德区其他',\n",
       "   'http://www.dianping.com/search/category/208/10/g104r341p3?aid=95244578',\n",
       "   '农民伯伯(农家湘菜)',\n",
       "   'http://www.dianping.com/shop/58018381'],\n",
       "  ['美食',\n",
       "   '佛山',\n",
       "   '湘菜',\n",
       "   '顺德区',\n",
       "   '顺德区其他',\n",
       "   'http://www.dianping.com/search/category/208/10/g104r341p3?aid=95244578',\n",
       "   '湘千里酒楼',\n",
       "   'http://www.dianping.com/shop/2104210'],\n",
       "  ['美食',\n",
       "   '佛山',\n",
       "   '湘菜',\n",
       "   '顺德区',\n",
       "   '顺德区其他',\n",
       "   'http://www.dianping.com/search/category/208/10/g104r341p3?aid=95244578',\n",
       "   '湖南酱板鸭(东乐路店)',\n",
       "   'http://www.dianping.com/shop/65030279'],\n",
       "  ['美食',\n",
       "   '佛山',\n",
       "   '湘菜',\n",
       "   '顺德区',\n",
       "   '顺德区其他',\n",
       "   'http://www.dianping.com/search/category/208/10/g104r341p3?aid=95244578',\n",
       "   '小湘厨大碗饭',\n",
       "   'http://www.dianping.com/shop/67458744'],\n",
       "  ['美食',\n",
       "   '佛山',\n",
       "   '湘菜',\n",
       "   '顺德区',\n",
       "   '顺德区其他',\n",
       "   'http://www.dianping.com/search/category/208/10/g104r341p3?aid=95244578',\n",
       "   '岭南人民公社',\n",
       "   'http://www.dianping.com/shop/65681409']],\n",
       " [['美食',\n",
       "   '佛山',\n",
       "   '湘菜',\n",
       "   '顺德区',\n",
       "   '顺德区其他',\n",
       "   'http://www.dianping.com/search/category/208/10/g104r341p3?aid=95244578',\n",
       "   '湘之香酒楼',\n",
       "   'http://www.dianping.com/shop/16600718'],\n",
       "  ['美食',\n",
       "   '佛山',\n",
       "   '湘菜',\n",
       "   '顺德区',\n",
       "   '顺德区其他',\n",
       "   'http://www.dianping.com/search/category/208/10/g104r341p3?aid=95244578',\n",
       "   '湘土菜',\n",
       "   'http://www.dianping.com/shop/5617575'],\n",
       "  ['美食',\n",
       "   '佛山',\n",
       "   '湘菜',\n",
       "   '顺德区',\n",
       "   '顺德区其他',\n",
       "   'http://www.dianping.com/search/category/208/10/g104r341p3?aid=95244578',\n",
       "   '龙品湘菜馆',\n",
       "   'http://www.dianping.com/shop/44291249'],\n",
       "  ['美食',\n",
       "   '佛山',\n",
       "   '湘菜',\n",
       "   '顺德区',\n",
       "   '顺德区其他',\n",
       "   'http://www.dianping.com/search/category/208/10/g104r341p4?aid=95244578',\n",
       "   '人面桃花正宗湘菜馆',\n",
       "   'http://www.dianping.com/shop/19293702'],\n",
       "  ['美食',\n",
       "   '佛山',\n",
       "   '湘菜',\n",
       "   '顺德区',\n",
       "   '顺德区其他',\n",
       "   'http://www.dianping.com/search/category/208/10/g104r341p4?aid=95244578',\n",
       "   '潇湘阁',\n",
       "   'http://www.dianping.com/shop/58273234'],\n",
       "  ['美食',\n",
       "   '佛山',\n",
       "   '湘菜',\n",
       "   '顺德区',\n",
       "   '顺德区其他',\n",
       "   'http://www.dianping.com/search/category/208/10/g104r341p4?aid=95244578',\n",
       "   '湘川粤菜',\n",
       "   'http://www.dianping.com/shop/40074503'],\n",
       "  ['美食',\n",
       "   '佛山',\n",
       "   '湘菜',\n",
       "   '顺德区',\n",
       "   '顺德区其他',\n",
       "   'http://www.dianping.com/search/category/208/10/g104r341p4?aid=95244578',\n",
       "   '农家湘菜馆',\n",
       "   'http://www.dianping.com/shop/40709308'],\n",
       "  ['美食',\n",
       "   '佛山',\n",
       "   '湘菜',\n",
       "   '顺德区',\n",
       "   '顺德区其他',\n",
       "   'http://www.dianping.com/search/category/208/10/g104r341p4?aid=95244578',\n",
       "   '湘山野农家菜馆',\n",
       "   'http://www.dianping.com/shop/79270264'],\n",
       "  ['美食',\n",
       "   '佛山',\n",
       "   '湘菜',\n",
       "   '顺德区',\n",
       "   '顺德区其他',\n",
       "   'http://www.dianping.com/search/category/208/10/g104r341p4?aid=95244578',\n",
       "   '江南村湘菜馆',\n",
       "   'http://www.dianping.com/shop/40434329'],\n",
       "  ['美食',\n",
       "   '佛山',\n",
       "   '湘菜',\n",
       "   '顺德区',\n",
       "   '顺德区其他',\n",
       "   'http://www.dianping.com/search/category/208/10/g104r341p4?aid=95244578',\n",
       "   '粤色天湘',\n",
       "   'http://www.dianping.com/shop/38131452']],\n",
       " [['美食',\n",
       "   '佛山',\n",
       "   '湘菜',\n",
       "   '顺德区',\n",
       "   '顺德区其他',\n",
       "   'http://www.dianping.com/search/category/208/10/g104r341p4?aid=95244578',\n",
       "   '湘聚缘',\n",
       "   'http://www.dianping.com/shop/22820845'],\n",
       "  ['美食',\n",
       "   '佛山',\n",
       "   '湘菜',\n",
       "   '顺德区',\n",
       "   '顺德区其他',\n",
       "   'http://www.dianping.com/search/category/208/10/g104r341p4?aid=95244578',\n",
       "   '农民伯伯农家湘菜',\n",
       "   'http://www.dianping.com/shop/83461307'],\n",
       "  ['美食',\n",
       "   '佛山',\n",
       "   '湘菜',\n",
       "   '顺德区',\n",
       "   '顺德区其他',\n",
       "   'http://www.dianping.com/search/category/208/10/g104r341p4?aid=95244578',\n",
       "   '荷叶湘木桶饭',\n",
       "   'http://www.dianping.com/shop/45335165'],\n",
       "  ['美食',\n",
       "   '佛山',\n",
       "   '湘菜',\n",
       "   '顺德区',\n",
       "   '顺德区其他',\n",
       "   'http://www.dianping.com/search/category/208/10/g104r341p4?aid=95244578',\n",
       "   '湘聚楼',\n",
       "   'http://www.dianping.com/shop/19599220'],\n",
       "  ['美食',\n",
       "   '佛山',\n",
       "   '湘菜',\n",
       "   '顺德区',\n",
       "   '顺德区其他',\n",
       "   'http://www.dianping.com/search/category/208/10/g104r341p4?aid=95244578',\n",
       "   '永州湘菜鲜肉馆',\n",
       "   'http://www.dianping.com/shop/63151377'],\n",
       "  ['美食',\n",
       "   '佛山',\n",
       "   '湘菜',\n",
       "   '顺德区',\n",
       "   '顺德区其他',\n",
       "   'http://www.dianping.com/search/category/208/10/g104r341p4?aid=95244578',\n",
       "   '黑土鸭土锅',\n",
       "   'http://www.dianping.com/shop/45562048'],\n",
       "  ['美食',\n",
       "   '佛山',\n",
       "   '湘菜',\n",
       "   '顺德区',\n",
       "   '顺德区其他',\n",
       "   'http://www.dianping.com/search/category/208/10/g104r341p4?aid=95244578',\n",
       "   '湘味居食尚餐厅',\n",
       "   'http://www.dianping.com/shop/44148118'],\n",
       "  ['美食',\n",
       "   '佛山',\n",
       "   '湘菜',\n",
       "   '顺德区',\n",
       "   '顺德区其他',\n",
       "   'http://www.dianping.com/search/category/208/10/g104r341p4?aid=95244578',\n",
       "   '丽日玫瑰食街湘豪食府',\n",
       "   'http://www.dianping.com/shop/92372554'],\n",
       "  ['美食',\n",
       "   '佛山',\n",
       "   '湘菜',\n",
       "   '顺德区',\n",
       "   '顺德区其他',\n",
       "   'http://www.dianping.com/search/category/208/10/g104r341p5?aid=95244578',\n",
       "   '洞庭渔村',\n",
       "   'http://www.dianping.com/shop/24816523'],\n",
       "  ['美食',\n",
       "   '佛山',\n",
       "   '湘菜',\n",
       "   '顺德区',\n",
       "   '顺德区其他',\n",
       "   'http://www.dianping.com/search/category/208/10/g104r341p5?aid=95244578',\n",
       "   '湖南饭店',\n",
       "   'http://www.dianping.com/shop/68546393']],\n",
       " [['美食',\n",
       "   '佛山',\n",
       "   '湘菜',\n",
       "   '顺德区',\n",
       "   '顺德区其他',\n",
       "   'http://www.dianping.com/search/category/208/10/g104r341p5?aid=95244578',\n",
       "   '焱鱼主题餐馆',\n",
       "   'http://www.dianping.com/shop/67492303'],\n",
       "  ['美食',\n",
       "   '佛山',\n",
       "   '湘菜',\n",
       "   '顺德区',\n",
       "   '顺德区其他',\n",
       "   'http://www.dianping.com/search/category/208/10/g104r341p5?aid=95244578',\n",
       "   '壹碗乡(北滘碧江店)',\n",
       "   'http://www.dianping.com/shop/22381226'],\n",
       "  ['美食',\n",
       "   '佛山',\n",
       "   '湘菜',\n",
       "   '顺德区',\n",
       "   '顺德区其他',\n",
       "   'http://www.dianping.com/search/category/208/10/g104r341p5?aid=95244578',\n",
       "   '泰上王腊味',\n",
       "   'http://www.dianping.com/shop/48851627'],\n",
       "  ['美食',\n",
       "   '佛山',\n",
       "   '湘菜',\n",
       "   '顺德区',\n",
       "   '顺德区其他',\n",
       "   'http://www.dianping.com/search/category/208/10/g104r341p5?aid=95244578',\n",
       "   '湖南酱板鸭',\n",
       "   'http://www.dianping.com/shop/64159329'],\n",
       "  ['美食',\n",
       "   '佛山',\n",
       "   '湘菜',\n",
       "   '顺德区',\n",
       "   '顺德区其他',\n",
       "   'http://www.dianping.com/search/category/208/10/g104r341p5?aid=95244578',\n",
       "   '潇湘情',\n",
       "   'http://www.dianping.com/shop/59231384'],\n",
       "  ['美食',\n",
       "   '佛山',\n",
       "   '湘菜',\n",
       "   '顺德区',\n",
       "   '顺德区其他',\n",
       "   'http://www.dianping.com/search/category/208/10/g104r341p5?aid=95244578',\n",
       "   '湘里乡亲土菜馆(陈村店)',\n",
       "   'http://www.dianping.com/shop/91974435'],\n",
       "  ['美食',\n",
       "   '佛山',\n",
       "   '湘菜',\n",
       "   '顺德区',\n",
       "   '顺德区其他',\n",
       "   'http://www.dianping.com/search/category/208/10/g104r341p5?aid=95244578',\n",
       "   '外婆湾湘菜馆(沙头店)',\n",
       "   'http://www.dianping.com/shop/10446388'],\n",
       "  ['美食',\n",
       "   '佛山',\n",
       "   '湘菜',\n",
       "   '顺德区',\n",
       "   '顺德区其他',\n",
       "   'http://www.dianping.com/search/category/208/10/g104r341p5?aid=95244578',\n",
       "   '小香厨(天佑城店)',\n",
       "   'http://www.dianping.com/shop/65483802'],\n",
       "  ['美食',\n",
       "   '佛山',\n",
       "   '湘菜',\n",
       "   '顺德区',\n",
       "   '顺德区其他',\n",
       "   'http://www.dianping.com/search/category/208/10/g104r341p5?aid=95244578',\n",
       "   '井水小厨',\n",
       "   'http://www.dianping.com/shop/3594148'],\n",
       "  ['美食',\n",
       "   '佛山',\n",
       "   '湘菜',\n",
       "   '顺德区',\n",
       "   '顺德区其他',\n",
       "   'http://www.dianping.com/search/category/208/10/g104r341p5?aid=95244578',\n",
       "   '虾城湘遇',\n",
       "   'http://www.dianping.com/shop/91012084']],\n",
       " [['美食',\n",
       "   '佛山',\n",
       "   '湘菜',\n",
       "   '顺德区',\n",
       "   '顺德区其他',\n",
       "   'http://www.dianping.com/search/category/208/10/g104r341p5?aid=95244578',\n",
       "   '雁城湘菜馆',\n",
       "   'http://www.dianping.com/shop/45600782'],\n",
       "  ['美食',\n",
       "   '佛山',\n",
       "   '湘菜',\n",
       "   '顺德区',\n",
       "   '顺德区其他',\n",
       "   'http://www.dianping.com/search/category/208/10/g104r341p5?aid=95244578',\n",
       "   '邹氏湖南味道',\n",
       "   'http://www.dianping.com/shop/95026325'],\n",
       "  ['美食',\n",
       "   '佛山',\n",
       "   '湘菜',\n",
       "   '顺德区',\n",
       "   '顺德区其他',\n",
       "   'http://www.dianping.com/search/category/208/10/g104r341p5?aid=95244578',\n",
       "   '兄弟厨房',\n",
       "   'http://www.dianping.com/shop/93188275'],\n",
       "  ['美食',\n",
       "   '佛山',\n",
       "   '湘菜',\n",
       "   '顺德区',\n",
       "   '顺德区其他',\n",
       "   'http://www.dianping.com/search/category/208/10/g104r341p6?aid=95244578',\n",
       "   '味真湘',\n",
       "   'http://www.dianping.com/shop/92240930'],\n",
       "  ['美食',\n",
       "   '佛山',\n",
       "   '湘菜',\n",
       "   '顺德区',\n",
       "   '顺德区其他',\n",
       "   'http://www.dianping.com/search/category/208/10/g104r341p6?aid=95244578',\n",
       "   '忆湘园',\n",
       "   'http://www.dianping.com/shop/90054691'],\n",
       "  ['美食',\n",
       "   '佛山',\n",
       "   '湘菜',\n",
       "   '顺德区',\n",
       "   '顺德区其他',\n",
       "   'http://www.dianping.com/search/category/208/10/g104r341p6?aid=95244578',\n",
       "   '南公茂人民公社',\n",
       "   'http://www.dianping.com/shop/63901639'],\n",
       "  ['美食',\n",
       "   '佛山',\n",
       "   '湘菜',\n",
       "   '顺德区',\n",
       "   '顺德区其他',\n",
       "   'http://www.dianping.com/search/category/208/10/g104r341p6?aid=95244578',\n",
       "   '子非鱼',\n",
       "   'http://www.dianping.com/shop/96172925'],\n",
       "  ['美食',\n",
       "   '佛山',\n",
       "   '湘菜',\n",
       "   '顺德区',\n",
       "   '顺德区其他',\n",
       "   'http://www.dianping.com/search/category/208/10/g104r341p6?aid=95244578',\n",
       "   '伍氏湘菜馆',\n",
       "   'http://www.dianping.com/shop/69087553'],\n",
       "  ['美食',\n",
       "   '佛山',\n",
       "   '湘菜',\n",
       "   '顺德区',\n",
       "   '顺德区其他',\n",
       "   'http://www.dianping.com/search/category/208/10/g104r341p6?aid=95244578',\n",
       "   '湘味食尚',\n",
       "   'http://www.dianping.com/shop/93117969'],\n",
       "  ['美食',\n",
       "   '佛山',\n",
       "   '湘菜',\n",
       "   '顺德区',\n",
       "   '顺德区其他',\n",
       "   'http://www.dianping.com/search/category/208/10/g104r341p6?aid=95244578',\n",
       "   '渔湘寨石锅鱼特色湘菜馆',\n",
       "   'http://www.dianping.com/shop/41487792']]]"
      ]
     },
     "execution_count": 24,
     "metadata": {},
     "output_type": "execute_result"
    }
   ],
   "source": [
    "info_chunk[:10]"
   ]
  },
  {
   "cell_type": "code",
   "execution_count": null,
   "metadata": {
    "collapsed": false,
    "scrolled": true
   },
   "outputs": [],
   "source": []
  },
  {
   "cell_type": "code",
   "execution_count": null,
   "metadata": {
    "collapsed": false
   },
   "outputs": [],
   "source": []
  },
  {
   "cell_type": "code",
   "execution_count": null,
   "metadata": {
    "collapsed": false
   },
   "outputs": [],
   "source": []
  },
  {
   "cell_type": "code",
   "execution_count": null,
   "metadata": {
    "collapsed": false
   },
   "outputs": [],
   "source": []
  },
  {
   "cell_type": "code",
   "execution_count": 29,
   "metadata": {
    "collapsed": false
   },
   "outputs": [],
   "source": []
  },
  {
   "cell_type": "code",
   "execution_count": null,
   "metadata": {
    "collapsed": false,
    "scrolled": true
   },
   "outputs": [],
   "source": [
    "info_ls"
   ]
  },
  {
   "cell_type": "code",
   "execution_count": null,
   "metadata": {
    "collapsed": false
   },
   "outputs": [],
   "source": [
    "requests.get(\"http://www.dianping.com/shop/75151357\")"
   ]
  },
  {
   "cell_type": "code",
   "execution_count": null,
   "metadata": {
    "collapsed": false
   },
   "outputs": [],
   "source": [
    "headers = {\"Accept\":\"application/json, text/javascript, */*; q=0.01\",\n",
    "                    \"Accept-Encoding\":\"gzip, deflate\",\n",
    "                    \"Accept-Language\":\"fr;q=0.8,en;q=0.6\",\n",
    "                    \"Connection\":\"keep-alive\",\n",
    "                    \"Cookie\":\"_hc.v=f72dbe69-bcfc-a9d4-1f7f-d8daeca1ad7f.1505634421; __utma=1.1801105885.1505634423.1505634423.1505636820.2; __utmz=1.1505634423.1.1.utmcsr=google.com.hk|utmccn=(referral)|utmcmd=referral|utmcct=/; _lxsdk_cuid=15e956d9d5ec8-0a28c942cf39be-2a044871-100200-15e956d9d5fc8; _lxsdk=15e956d9d5ec8-0a28c942cf39be-2a044871-100200-15e956d9d5fc8; _lx_utm=utm_source%3DBaidu%26utm_medium%3Dorganic; __mta=222713764.1505836341840.1507819135553.1507819166825.4; JSESSIONID=D2D3D245867334198A59E676F146C5A8; aburl=1; cy=4; cye=guangzhou; s_ViewType=10; _lxsdk_s=15f2012787a-db4-26a-c8%7C%7C47\",\n",
    "                    \"Host\":\"www.dianping.com\",\n",
    "                    \"Referer\":\"http://www.dianping.com\",\n",
    "                    \"User-Agent\":\"Mozilla/5.0 (X11; Linux x86_64) AppleWebKit/537.36 (KHTML, like Gecko) Ubuntu Chromium/61.0.3163.100 Chrome/61.0.3163.100 Safari/537.36\",\n",
    "                    \"X-Requested-With\":\"XMLHttpRequest\"}"
   ]
  },
  {
   "cell_type": "code",
   "execution_count": null,
   "metadata": {
    "collapsed": true
   },
   "outputs": [],
   "source": [
    "headers = {\"User-Agent\":\"Mozilla/5.0 (X11; U; Linux i686; en-US; rv:1.9.0.1) Gecko/2008071615 Fedora/3.0.1-1.fc9 Firefox/3.0.1\"}"
   ]
  },
  {
   "cell_type": "code",
   "execution_count": null,
   "metadata": {
    "collapsed": false
   },
   "outputs": [],
   "source": [
    "requests.get(\"http://www.dianping.com/shop/75151357\",headers=headers)"
   ]
  },
  {
   "cell_type": "code",
   "execution_count": null,
   "metadata": {
    "collapsed": true
   },
   "outputs": [],
   "source": []
  }
 ],
 "metadata": {
  "kernelspec": {
   "display_name": "Python 3",
   "language": "python",
   "name": "python3"
  },
  "language_info": {
   "codemirror_mode": {
    "name": "ipython",
    "version": 3
   },
   "file_extension": ".py",
   "mimetype": "text/x-python",
   "name": "python",
   "nbconvert_exporter": "python",
   "pygments_lexer": "ipython3",
   "version": "3.6.0"
  }
 },
 "nbformat": 4,
 "nbformat_minor": 2
}
